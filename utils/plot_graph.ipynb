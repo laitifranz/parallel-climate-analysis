{
 "cells": [
  {
   "attachments": {},
   "cell_type": "markdown",
   "metadata": {},
   "source": [
    "# Plot the benchmarks"
   ]
  },
  {
   "cell_type": "code",
   "execution_count": null,
   "metadata": {},
   "outputs": [],
   "source": [
    "import pandas as pd\n",
    "import matplotlib.pyplot as plt\n",
    "\n",
    "data = pd.read_csv('../parallel/MPI_openMP/output/performance_benchmarks.csv')"
   ]
  },
  {
   "attachments": {},
   "cell_type": "markdown",
   "metadata": {},
   "source": [
    "Remember to add manually the data of serial part, one example is reported here:\n",
    "\n",
    "$0.250000, Nan, Nan, NaN, 1, 5.485337$"
   ]
  },
  {
   "attachments": {},
   "cell_type": "markdown",
   "metadata": {},
   "source": [
    "## Time"
   ]
  },
  {
   "cell_type": "code",
   "execution_count": null,
   "metadata": {},
   "outputs": [],
   "source": [
    "grouped_data = data.groupby(['problem_size', 'processes'])\n",
    "#grouped_data = data.groupby(['threads', 'processes'])\n",
    "\n",
    "min_times = grouped_data['time'].min()\n",
    "\n",
    "plot_data = min_times.unstack(level=0)\n",
    "print(plot_data)\n",
    "\n",
    "plot_data.plot.line(marker='o')\n",
    "\n",
    "plt.xticks(min_times.index.levels[1], min_times.index.levels[1])\n",
    "plt.xlabel('Number of Processes')\n",
    "plt.ylabel('Time in seconds')\n",
    "plt.show()"
   ]
  },
  {
   "attachments": {},
   "cell_type": "markdown",
   "metadata": {},
   "source": [
    "## Speedup"
   ]
  },
  {
   "cell_type": "code",
   "execution_count": null,
   "metadata": {},
   "outputs": [],
   "source": [
    "grouped_data = data.groupby(['problem_size', 'processes'])\n",
    "#grouped_data = data.groupby(['threads', 'processes'])\n",
    "\n",
    "min_times = grouped_data['time'].min()\n",
    "\n",
    "serial_times = min_times.xs(1, level='processes')\n",
    "print(serial_times)\n",
    "print(min_times)\n",
    "\n",
    "speedup = serial_times / min_times\n",
    "print(speedup)\n",
    "\n",
    "plot_data = speedup.unstack(level=0)\n",
    "plot_data.plot.line(marker='o')\n",
    "\n",
    "plt.xticks(min_times.index.levels[1], min_times.index.levels[1])\n",
    "plt.xlabel('Number of Processes')\n",
    "plt.ylabel('Speedup')\n",
    "\n",
    "plt.show()"
   ]
  },
  {
   "attachments": {},
   "cell_type": "markdown",
   "metadata": {},
   "source": [
    "## Efficiency"
   ]
  },
  {
   "cell_type": "code",
   "execution_count": null,
   "metadata": {},
   "outputs": [],
   "source": [
    "import matplotlib.ticker as mtick\n",
    "\n",
    "grouped_data = data.groupby(['problem_size', 'processes'])\n",
    "#grouped_data = data.groupby(['threads', 'processes'])\n",
    "\n",
    "min_times = grouped_data['time'].min()\n",
    "\n",
    "serial_times = min_times.xs(1, level='processes')\n",
    "\n",
    "efficiency = serial_times / (min_times * min_times.index.get_level_values('processes'))\n",
    "print(efficiency)\n",
    "\n",
    "plot_data = efficiency.unstack(level=0)\n",
    "\n",
    "ax = plot_data.plot.line(marker='o')\n",
    "\n",
    "ax.set_xticks(min_times.index.levels[1])\n",
    "ax.set_xticklabels(min_times.index.levels[1])\n",
    "ax.set_xlabel('Number of Processes')\n",
    "ax.set_ylabel('Efficiency (%)')\n",
    "fmt = mtick.PercentFormatter(xmax=1.0)\n",
    "ax.yaxis.set_major_formatter(fmt)\n",
    "plt.show()"
   ]
  }
 ],
 "metadata": {
  "kernelspec": {
   "display_name": "hpc4ds",
   "language": "python",
   "name": "python3"
  },
  "language_info": {
   "codemirror_mode": {
    "name": "ipython",
    "version": 3
   },
   "file_extension": ".py",
   "mimetype": "text/x-python",
   "name": "python",
   "nbconvert_exporter": "python",
   "pygments_lexer": "ipython3",
   "version": "3.7.7"
  },
  "orig_nbformat": 4
 },
 "nbformat": 4,
 "nbformat_minor": 2
}
