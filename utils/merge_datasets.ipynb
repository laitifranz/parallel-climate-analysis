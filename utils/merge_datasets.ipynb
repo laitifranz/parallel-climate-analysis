{
 "cells": [
  {
   "attachments": {},
   "cell_type": "markdown",
   "metadata": {},
   "source": [
    "## Merge multiple .nc files\n",
    "\n",
    "Using ``cdo`` library, we merge multiple files along the time dimension."
   ]
  },
  {
   "cell_type": "code",
   "execution_count": null,
   "metadata": {},
   "outputs": [],
   "source": [
    "import cdo\n",
    "cdo = cdo.Cdo()\n",
    "\n",
    "# Merge all netCDF files in the current directory along the time dimension\n",
    "merged_file = cdo.mergetime(input='/shares/HPC4DataScience/pta/CMCC-CM2-SR5_historical/pr_day_CMCC-CM2-SR5_historical_r1i1p1f1_gn_*.nc', \n",
    "                            output='/home/francesco.laiti/Parallel-Climate-Analysis/merged_file.nc')\n",
    "\n",
    "# Print the path to the merged file\n",
    "print(merged_file)"
   ]
  }
 ],
 "metadata": {
  "language_info": {
   "name": "python"
  },
  "orig_nbformat": 4
 },
 "nbformat": 4,
 "nbformat_minor": 2
}
